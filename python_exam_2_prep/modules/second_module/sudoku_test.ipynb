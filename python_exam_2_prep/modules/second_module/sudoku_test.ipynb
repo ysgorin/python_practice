{
 "cells": [
  {
   "cell_type": "code",
   "execution_count": 32,
   "metadata": {},
   "outputs": [
    {
     "data": {
      "text/plain": [
       "{1: '295743861',\n",
       " 2: '431865927',\n",
       " 3: '876192543',\n",
       " 4: '387459216',\n",
       " 5: '612387495',\n",
       " 6: '549216738',\n",
       " 7: '763524189',\n",
       " 8: '928671354',\n",
       " 9: '154938672'}"
      ]
     },
     "execution_count": 32,
     "metadata": {},
     "output_type": "execute_result"
    }
   ],
   "source": [
    "sudoku_dict = {1: '295743861',\n",
    "               2: '431865927',\n",
    "               3: '876192543',\n",
    "               4: '387459216',\n",
    "               5: '612387495',\n",
    "               6: '549216738',\n",
    "               7: '763524189',\n",
    "               8: '928671354',\n",
    "               9: '154938672'\n",
    "}\n",
    "sudoku_dict"
   ]
  },
  {
   "cell_type": "code",
   "execution_count": 19,
   "metadata": {},
   "outputs": [
    {
     "name": "stdout",
     "output_type": "stream",
     "text": [
      "Yes\n"
     ]
    }
   ],
   "source": [
    "validate_list = ['1','2','3','4','5','6','7','8','9']\n",
    "if sorted(list(sudoku_dict[1])) == validate_list:\n",
    "    print('Yes')\n",
    "else:\n",
    "    print('No')"
   ]
  },
  {
   "cell_type": "code",
   "execution_count": 35,
   "metadata": {},
   "outputs": [
    {
     "name": "stdout",
     "output_type": "stream",
     "text": [
      "Yes\n"
     ]
    }
   ],
   "source": [
    "validate_list = ['1','2','3','4','5','6','7','8','9']\n",
    "\n",
    "def check_grid(sudoku_dict, row_num, col_num, validate_list):\n",
    "    grid_list = []\n",
    "    for row in range(3):\n",
    "        for col in range(3):\n",
    "            grid_list.append(sudoku_dict[row_num+row][col_num+col])\n",
    "    if sorted(grid_list) == validate_list:\n",
    "        return True\n",
    "    else:\n",
    "        return False\n",
    "\n",
    "if check_grid(sudoku_dict, 1, 0, validate_list) \\\n",
    "    and check_grid(sudoku_dict, 4, 3, validate_list) \\\n",
    "        and check_grid(sudoku_dict, 7, 6, validate_list):\n",
    "    print('Yes')\n",
    "else:\n",
    "    print('No')"
   ]
  },
  {
   "cell_type": "code",
   "execution_count": 29,
   "metadata": {},
   "outputs": [
    {
     "name": "stdout",
     "output_type": "stream",
     "text": [
      "['2', '4', '8', '3', '6', '5', '7', '9', '1']\n",
      "['1', '2', '3', '4', '5', '6', '7', '8', '9']\n",
      "['9', '3', '7', '8', '1', '4', '6', '2', '5']\n",
      "['1', '2', '3', '4', '5', '6', '7', '8', '9']\n",
      "['5', '1', '6', '7', '2', '9', '3', '8', '4']\n",
      "['1', '2', '3', '4', '5', '6', '7', '8', '9']\n",
      "['7', '8', '1', '4', '3', '2', '5', '6', '9']\n",
      "['1', '2', '3', '4', '5', '6', '7', '8', '9']\n",
      "['4', '6', '9', '5', '8', '1', '2', '7', '3']\n",
      "['1', '2', '3', '4', '5', '6', '7', '8', '9']\n",
      "['3', '5', '2', '9', '7', '6', '4', '1', '8']\n",
      "['1', '2', '3', '4', '5', '6', '7', '8', '9']\n",
      "['8', '9', '5', '2', '4', '7', '1', '3', '6']\n",
      "['1', '2', '3', '4', '5', '6', '7', '8', '9']\n",
      "['6', '2', '4', '1', '9', '3', '8', '5', '7']\n",
      "['1', '2', '3', '4', '5', '6', '7', '8', '9']\n",
      "['1', '7', '3', '6', '5', '8', '9', '4', '2']\n",
      "['1', '2', '3', '4', '5', '6', '7', '8', '9']\n"
     ]
    }
   ],
   "source": [
    "for y in range(9):\n",
    "    line_list = []\n",
    "    for i in range(1,10):\n",
    "        line_list.append(sudoku_dict[i][y])\n",
    "    print(line_list)\n",
    "    print(sorted(line_list))\n"
   ]
  }
 ],
 "metadata": {
  "kernelspec": {
   "display_name": "Python 3",
   "language": "python",
   "name": "python3"
  },
  "language_info": {
   "codemirror_mode": {
    "name": "ipython",
    "version": 3
   },
   "file_extension": ".py",
   "mimetype": "text/x-python",
   "name": "python",
   "nbconvert_exporter": "python",
   "pygments_lexer": "ipython3",
   "version": "3.13.0"
  }
 },
 "nbformat": 4,
 "nbformat_minor": 2
}
